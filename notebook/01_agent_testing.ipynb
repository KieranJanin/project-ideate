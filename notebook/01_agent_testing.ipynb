{
 "cells": [
  {
   "cell_type": "code",
   "execution_count": 1,
   "metadata": {},
   "outputs": [],
   "source": [
    "import os\n",
    "import sys\n",
    "\n",
    "notebook_dir = os.getcwd() \n",
    "\n",
    "# Navigate up to the 'src' directory, then add 'project_ideate'\n",
    "# Assuming your notebook is in 'notebook/' and 'src' is a sibling of 'notebook'\n",
    "project_root = os.path.abspath(os.path.join(notebook_dir, '..')) # Goes from 'notebook' to project root\n",
    "sys.path.append(os.path.join(project_root, 'src'))"
   ]
  },
  {
   "cell_type": "markdown",
   "metadata": {},
   "source": [
    "# Agent Testing Notebook\n",
    "\n",
    "This notebook provides a basic structure for testing the agents defined in:\n",
    "* `src/project_ideate/agents/learning_agents.py`\n",
    "* `src/project_ideate/agents/building_agents.py`\n",
    "* `src/project_ideate/agents/organizing_agents.py`\n"
   ]
  },
  {
   "cell_type": "markdown",
   "metadata": {},
   "source": [
    "## Import necessary libraries and agents"
   ]
  },
  {
   "cell_type": "code",
   "execution_count": 2,
   "metadata": {},
   "outputs": [],
   "source": [
    "# !pip install google-adk"
   ]
  },
  {
   "cell_type": "code",
   "execution_count": 3,
   "metadata": {},
   "outputs": [],
   "source": [
    "# Import agents from learning_agents.py\n",
    "from project_ideate.agents.learning_agents import anthropologist, cross_pollinator, experimenter\n",
    "\n",
    "# Import any other necessary libraries (e.g., for running agents, handling outputs)"
   ]
  },
  {
   "cell_type": "markdown",
   "metadata": {},
   "source": [
    "## Define a test function or class"
   ]
  },
  {
   "cell_type": "code",
   "execution_count": 4,
   "metadata": {},
   "outputs": [
    {
     "name": "stdout",
     "output_type": "stream",
     "text": [
      "\n",
      ">>> Asking the Anthropologist: 'Present yourself and your role based on your instructions.'\n",
      "<<< Anthropologist's Response: I am The Anthropologist. My role is to observe human behavior related to the design challenge. I deliver deep, unbiased insights, focusing on what people *do*, not just what they *say*. I use my search tool to find ethnographic studies, forum discussions, and user reviews.\n",
      "--------------------------------------------------\n",
      "\n",
      ">>> Asking the Experimenter: 'Present yourself and your role based on your instructions.'\n",
      "<<< Experimenter's Response: Hello! I am The Experimenter. My purpose is to help you prototype and test new ideas rapidly. I thrive on iteration and see every attempt, even unsuccessful ones, as a valuable learning opportunity on the path to success.\n",
      "--------------------------------------------------\n",
      "\n",
      ">>> Asking the Director: 'Present yourself and your role based on your instructions.'\n",
      "<<< Director's Response: Hello team! I'm The Director, and my role here is to empower and motivate all of you as we tackle this design challenge. I'm here to guide our innovation process, ensuring we stay aligned, inspired, and ultimately, successful. Let's bring our best ideas forward and create something amazing together!\n",
      "--------------------------------------------------\n",
      "\n",
      ">>> Asking the Collaborator: 'Present yourself and your role based on your instructions.'\n",
      "<<< Collaborator's Response: Hello everyone! I'm The Collaborator, and my role here is to foster teamwork and bring us all together to tackle this design challenge. I'm all about facilitating synergy and unlocking our collective intelligence. I'll be using my tools to find information on team dynamics, collaboration, and successful partnerships to help us work together as effectively as possible. Let's create something amazing!\n",
      "--------------------------------------------------\n",
      "\n",
      ">>> Asking the Hurdler: 'Present yourself and your role based on your instructions.'\n",
      "<<< Hurdler's Response: Hello! I'm The Hurdler. My purpose is to help you navigate and overcome any obstacles or constraints you encounter in your design challenge. I'll focus on finding creative solutions and turning limitations into opportunities by researching problem-solving strategies and case studies. Let's tackle those challenges together!\n",
      "--------------------------------------------------\n",
      "\n",
      ">>> Asking the Experience_Architect: 'Present yourself and your role based on your instructions.'\n",
      "<<< Experience_Architect's Response: Hello! I am The Experience Architect. My purpose is to design compelling and meaningful experiences for users and customers. I focus on both the emotional and functional aspects of interaction, ensuring that every touchpoint is engaging and effective. I can also leverage my tools to research user experience (UX) design, customer journey mapping, and service design to inform these experiences.\n",
      "--------------------------------------------------\n",
      "\n",
      ">>> Asking the Set_Designer: 'Present yourself and your role based on your instructions.'\n",
      "<<< Set_Designer's Response: Hello! I'm The Set Designer. My role is to create inspiring and supportive physical and cultural spaces that foster innovation. I focus on the environments where work happens, helping to set the stage for creative thinking and breakthrough ideas.\n",
      "--------------------------------------------------\n",
      "\n",
      ">>> Asking the Storyteller: 'Present yourself and your role based on your instructions.'\n",
      "<<< Storyteller's Response: Hello! I'm The Storyteller. My purpose is to craft compelling narratives around design challenges, new ideas, and innovative solutions. I aim to communicate vision and inspire action through engaging stories.\n",
      "--------------------------------------------------\n",
      "\n",
      ">>> Asking the Caregiver: 'Present yourself and your role based on your instructions.'\n",
      "<<< Caregiver's Response: Hello! I'm The Caregiver. My purpose is to anticipate and address your needs, ensuring your well-being and satisfaction. I'm here to build empathy and trust, offering the best support possible.\n",
      "--------------------------------------------------\n",
      "\n",
      ">>> Asking the Cross_Pollinator: 'Present yourself and your role based on your instructions.'\n",
      "<<< Cross_Pollinator's Response: Hello! I'm The Cross-Pollinator. My role is to find inspiration and potential solutions to your design challenge by exploring how similar problems are addressed in completely unrelated fields or industries. I delve into diverse areas to bring fresh perspectives and innovative ideas to the table!\n",
      "--------------------------------------------------\n"
     ]
    }
   ],
   "source": [
    "import asyncio\n",
    "from google.adk.runners import Runner\n",
    "from google.adk.sessions import InMemorySessionService\n",
    "from google.genai import types\n",
    "\n",
    "# Assuming these imports work and define your agents correctly\n",
    "from project_ideate.agents.learning_agents import *\n",
    "from project_ideate.agents.building_agents import *\n",
    "from project_ideate.agents.organizing_agents import *\n",
    "\n",
    "# If not already imported from your files, ensure these are defined for the example:\n",
    "# class MockSettings:\n",
    "#     DEFAULT_MODEL = \"gemini-1.5-flash-latest\" # Replace with your actual model name\n",
    "# settings = MockSettings()\n",
    "# from google.adk.agents import Agent\n",
    "# anthropologist = Agent(name=\"Anthropologist\", model=settings.DEFAULT_MODEL, instruction=\"...\", tools=[])\n",
    "# # ... define all other agents similarly for a self-contained snippet ...\n",
    "\n",
    "\n",
    "# --- Session Service (instantiate once outside the loop) ---\n",
    "APP_NAME = \"agent_testing_app\"\n",
    "USER_ID = \"agent_user\"\n",
    "session_service = InMemorySessionService() # Instantiate session service only once\n",
    "\n",
    "async def ask_agent_to_present_itself(agent):\n",
    "    \"\"\"Sends a prompt to the agent asking it to present itself using a unique session.\"\"\"\n",
    "    \n",
    "    # Generate a UNIQUE session ID for each agent based on its name\n",
    "    # This prevents cross-agent event warnings\n",
    "    current_session_id = f\"session_intro_{agent.name.lower().replace(' ', '_')}\"\n",
    "    \n",
    "    # 1. CREATE THE SESSION FOR THIS SPECIFIC AGENT'S INTERACTION - MUST BE AWAITED!\n",
    "    # This ensures a fresh, isolated session for each agent's turn.\n",
    "    await session_service.create_session( # <-- This is now correctly inside the async function and awaited\n",
    "        app_name=APP_NAME, user_id=USER_ID, session_id=current_session_id\n",
    "    )\n",
    "\n",
    "    # 2. Create the runner, linking it to the newly created unique session\n",
    "    agent_runner = Runner(\n",
    "        agent=agent,\n",
    "        app_name=APP_NAME,\n",
    "        session_service=session_service,\n",
    "    )\n",
    "    \n",
    "    query_text = \"Present yourself and your role based on your instructions.\"\n",
    "    print(f\"\\n>>> Asking the {agent.name}: '{query_text}'\")\n",
    "\n",
    "    user_content = types.Content(role='user', parts=[types.Part(text=query_text)])\n",
    "\n",
    "    final_response_content = \"No response received.\"\n",
    "    async for event in agent_runner.run_async(\n",
    "        user_id=USER_ID, session_id=current_session_id, new_message=user_content\n",
    "    ):\n",
    "        if event.is_final_response() and event.content and event.content.parts:\n",
    "            final_response_content = event.content.parts[0].text\n",
    "            break\n",
    "\n",
    "    print(f\"<<< {agent.name}'s Response: {final_response_content}\")\n",
    "    print(\"-\" * 50)\n",
    "\n",
    "# --- Execute the async function directly in Jupyter ---\n",
    "# Make sure all your persona agents (anthropologist, experimenter, etc.) are defined and available in this scope.\n",
    "for agent_obj in [anthropologist, experimenter, director, collaborator, hurdler, experience_architect, set_designer, storyteller, caregiver, cross_pollinator]:\n",
    "    await ask_agent_to_present_itself(agent_obj)"
   ]
  },
  {
   "cell_type": "code",
   "execution_count": null,
   "metadata": {},
   "outputs": [],
   "source": []
  }
 ],
 "metadata": {
  "kernelspec": {
   "display_name": "ideate-env",
   "language": "python",
   "name": "python3"
  },
  "language_info": {
   "codemirror_mode": {
    "name": "ipython",
    "version": 3
   },
   "file_extension": ".py",
   "mimetype": "text/x-python",
   "name": "python",
   "nbconvert_exporter": "python",
   "pygments_lexer": "ipython3",
   "version": "3.11.13"
  }
 },
 "nbformat": 4,
 "nbformat_minor": 2
}
