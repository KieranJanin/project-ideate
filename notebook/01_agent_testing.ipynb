{
 "cells": [
  {
   "cell_type": "code",
   "execution_count": 1,
   "metadata": {},
   "outputs": [],
   "source": [
    "import os\n",
    "import sys\n",
    "\n",
    "notebook_dir = os.getcwd() \n",
    "\n",
    "# Navigate up to the 'src' directory, then add 'project_ideate'\n",
    "# Assuming your notebook is in 'notebook/' and 'src' is a sibling of 'notebook'\n",
    "project_root = os.path.abspath(os.path.join(notebook_dir, '..')) # Goes from 'notebook' to project root\n",
    "sys.path.append(os.path.join(project_root, 'src'))"
   ]
  },
  {
   "cell_type": "markdown",
   "metadata": {},
   "source": [
    "# Agent Testing Notebook\n",
    "\n",
    "This notebook provides a basic structure for testing the agents defined in:\n",
    "* `src/project_ideate/agents/learning_agents.py`\n",
    "* `src/project_ideate/agents/building_agents.py`\n",
    "* `src/project_ideate/agents/organizing_agents.py`\n"
   ]
  },
  {
   "cell_type": "markdown",
   "metadata": {},
   "source": [
    "## Import necessary libraries and agents"
   ]
  },
  {
   "cell_type": "code",
   "execution_count": 1,
   "metadata": {},
   "outputs": [
    {
     "name": "stdout",
     "output_type": "stream",
     "text": [
      "Collecting google-generativeai\n",
      "  Using cached google_generativeai-0.8.5-py3-none-any.whl.metadata (3.9 kB)\n",
      "Collecting google-ai-generativelanguage==0.6.15 (from google-generativeai)\n",
      "  Using cached google_ai_generativelanguage-0.6.15-py3-none-any.whl.metadata (5.7 kB)\n",
      "Requirement already satisfied: google-api-core in /home/user/.conda/envs/ideate-env/lib/python3.11/site-packages (from google-generativeai) (2.25.1)\n",
      "Requirement already satisfied: google-api-python-client in /home/user/.conda/envs/ideate-env/lib/python3.11/site-packages (from google-generativeai) (2.176.0)\n",
      "Requirement already satisfied: google-auth>=2.15.0 in /home/user/.conda/envs/ideate-env/lib/python3.11/site-packages (from google-generativeai) (2.40.3)\n",
      "Requirement already satisfied: protobuf in /home/user/.conda/envs/ideate-env/lib/python3.11/site-packages (from google-generativeai) (6.31.1)\n",
      "Requirement already satisfied: pydantic in /home/user/.conda/envs/ideate-env/lib/python3.11/site-packages (from google-generativeai) (2.11.7)\n",
      "Collecting tqdm (from google-generativeai)\n",
      "  Using cached tqdm-4.67.1-py3-none-any.whl.metadata (57 kB)\n",
      "Requirement already satisfied: typing-extensions in /home/user/.conda/envs/ideate-env/lib/python3.11/site-packages (from google-generativeai) (4.12.2)\n",
      "Requirement already satisfied: proto-plus<2.0.0dev,>=1.22.3 in /home/user/.conda/envs/ideate-env/lib/python3.11/site-packages (from google-ai-generativelanguage==0.6.15->google-generativeai) (1.26.1)\n",
      "Collecting protobuf (from google-generativeai)\n",
      "  Using cached protobuf-5.29.5-cp38-abi3-manylinux2014_x86_64.whl.metadata (592 bytes)\n",
      "Requirement already satisfied: googleapis-common-protos<2.0.0,>=1.56.2 in /home/user/.conda/envs/ideate-env/lib/python3.11/site-packages (from google-api-core->google-generativeai) (1.70.0)\n",
      "Requirement already satisfied: requests<3.0.0,>=2.18.0 in /home/user/.conda/envs/ideate-env/lib/python3.11/site-packages (from google-api-core->google-generativeai) (2.32.4)\n",
      "Requirement already satisfied: grpcio<2.0.0,>=1.33.2 in /home/user/.conda/envs/ideate-env/lib/python3.11/site-packages (from google-api-core[grpc]!=2.0.*,!=2.1.*,!=2.10.*,!=2.2.*,!=2.3.*,!=2.4.*,!=2.5.*,!=2.6.*,!=2.7.*,!=2.8.*,!=2.9.*,<3.0.0dev,>=1.34.1->google-ai-generativelanguage==0.6.15->google-generativeai) (1.73.1)\n",
      "Requirement already satisfied: grpcio-status<2.0.0,>=1.33.2 in /home/user/.conda/envs/ideate-env/lib/python3.11/site-packages (from google-api-core[grpc]!=2.0.*,!=2.1.*,!=2.10.*,!=2.2.*,!=2.3.*,!=2.4.*,!=2.5.*,!=2.6.*,!=2.7.*,!=2.8.*,!=2.9.*,<3.0.0dev,>=1.34.1->google-ai-generativelanguage==0.6.15->google-generativeai) (1.73.1)\n",
      "Requirement already satisfied: cachetools<6.0,>=2.0.0 in /home/user/.conda/envs/ideate-env/lib/python3.11/site-packages (from google-auth>=2.15.0->google-generativeai) (5.5.2)\n",
      "Requirement already satisfied: pyasn1-modules>=0.2.1 in /home/user/.conda/envs/ideate-env/lib/python3.11/site-packages (from google-auth>=2.15.0->google-generativeai) (0.4.2)\n",
      "Requirement already satisfied: rsa<5,>=3.1.4 in /home/user/.conda/envs/ideate-env/lib/python3.11/site-packages (from google-auth>=2.15.0->google-generativeai) (4.9.1)\n",
      "INFO: pip is looking at multiple versions of grpcio-status to determine which version is compatible with other requirements. This could take a while.\n",
      "Collecting grpcio-status<2.0.0,>=1.33.2 (from google-api-core[grpc]!=2.0.*,!=2.1.*,!=2.10.*,!=2.2.*,!=2.3.*,!=2.4.*,!=2.5.*,!=2.6.*,!=2.7.*,!=2.8.*,!=2.9.*,<3.0.0dev,>=1.34.1->google-ai-generativelanguage==0.6.15->google-generativeai)\n",
      "  Using cached grpcio_status-1.73.0-py3-none-any.whl.metadata (1.1 kB)\n",
      "  Using cached grpcio_status-1.72.2-py3-none-any.whl.metadata (1.1 kB)\n",
      "  Using cached grpcio_status-1.72.1-py3-none-any.whl.metadata (1.1 kB)\n",
      "  Using cached grpcio_status-1.71.2-py3-none-any.whl.metadata (1.1 kB)\n",
      "Requirement already satisfied: charset_normalizer<4,>=2 in /home/user/.conda/envs/ideate-env/lib/python3.11/site-packages (from requests<3.0.0,>=2.18.0->google-api-core->google-generativeai) (3.4.2)\n",
      "Requirement already satisfied: idna<4,>=2.5 in /home/user/.conda/envs/ideate-env/lib/python3.11/site-packages (from requests<3.0.0,>=2.18.0->google-api-core->google-generativeai) (3.10)\n",
      "Requirement already satisfied: urllib3<3,>=1.21.1 in /home/user/.conda/envs/ideate-env/lib/python3.11/site-packages (from requests<3.0.0,>=2.18.0->google-api-core->google-generativeai) (2.5.0)\n",
      "Requirement already satisfied: certifi>=2017.4.17 in /home/user/.conda/envs/ideate-env/lib/python3.11/site-packages (from requests<3.0.0,>=2.18.0->google-api-core->google-generativeai) (2025.7.14)\n",
      "Requirement already satisfied: pyasn1>=0.1.3 in /home/user/.conda/envs/ideate-env/lib/python3.11/site-packages (from rsa<5,>=3.1.4->google-auth>=2.15.0->google-generativeai) (0.6.1)\n",
      "Requirement already satisfied: httplib2<1.0.0,>=0.19.0 in /home/user/.conda/envs/ideate-env/lib/python3.11/site-packages (from google-api-python-client->google-generativeai) (0.22.0)\n",
      "Requirement already satisfied: google-auth-httplib2<1.0.0,>=0.2.0 in /home/user/.conda/envs/ideate-env/lib/python3.11/site-packages (from google-api-python-client->google-generativeai) (0.2.0)\n",
      "Requirement already satisfied: uritemplate<5,>=3.0.1 in /home/user/.conda/envs/ideate-env/lib/python3.11/site-packages (from google-api-python-client->google-generativeai) (4.2.0)\n",
      "Requirement already satisfied: pyparsing!=3.0.0,!=3.0.1,!=3.0.2,!=3.0.3,<4,>=2.4.2 in /home/user/.conda/envs/ideate-env/lib/python3.11/site-packages (from httplib2<1.0.0,>=0.19.0->google-api-python-client->google-generativeai) (3.2.3)\n",
      "Requirement already satisfied: annotated-types>=0.6.0 in /home/user/.conda/envs/ideate-env/lib/python3.11/site-packages (from pydantic->google-generativeai) (0.7.0)\n",
      "Requirement already satisfied: pydantic-core==2.33.2 in /home/user/.conda/envs/ideate-env/lib/python3.11/site-packages (from pydantic->google-generativeai) (2.33.2)\n",
      "Requirement already satisfied: typing-inspection>=0.4.0 in /home/user/.conda/envs/ideate-env/lib/python3.11/site-packages (from pydantic->google-generativeai) (0.4.1)\n",
      "Using cached google_generativeai-0.8.5-py3-none-any.whl (155 kB)\n",
      "Using cached google_ai_generativelanguage-0.6.15-py3-none-any.whl (1.3 MB)\n",
      "Using cached grpcio_status-1.71.2-py3-none-any.whl (14 kB)\n",
      "Using cached protobuf-5.29.5-cp38-abi3-manylinux2014_x86_64.whl (319 kB)\n",
      "Using cached tqdm-4.67.1-py3-none-any.whl (78 kB)\n",
      "Installing collected packages: tqdm, protobuf, grpcio-status, google-ai-generativelanguage, google-generativeai\n",
      "\u001b[2K  Attempting uninstall: protobuf\n",
      "\u001b[2K    Found existing installation: protobuf 6.31.1\n",
      "\u001b[2K    Uninstalling protobuf-6.31.1:\n",
      "\u001b[2K      Successfully uninstalled protobuf-6.31.1\n",
      "\u001b[2K  Attempting uninstall: grpcio-status━━━━━━━━━━━━━━━━━━━━━━━━━━━━━\u001b[0m \u001b[32m1/5\u001b[0m [protobuf]\n",
      "\u001b[2K    Found existing installation: grpcio-status 1.73.1━━━━━━━━━\u001b[0m \u001b[32m1/5\u001b[0m [protobuf]\n",
      "\u001b[2K    Uninstalling grpcio-status-1.73.1:━━━━━━━━━━━━━━━━━━━━━━━━\u001b[0m \u001b[32m1/5\u001b[0m [protobuf]\n",
      "\u001b[2K      Successfully uninstalled grpcio-status-1.73.1━━━━━━━━━━━\u001b[0m \u001b[32m1/5\u001b[0m [protobuf]\n",
      "\u001b[2K   \u001b[90m━━━━━━━━━━━━━━━━━━━━━━━━━━━━━━━━━━━━━━━━\u001b[0m \u001b[32m5/5\u001b[0m [google-generativeai]ogle-generativeai]language]\n",
      "\u001b[1A\u001b[2KSuccessfully installed google-ai-generativelanguage-0.6.15 google-generativeai-0.8.5 grpcio-status-1.71.2 protobuf-5.29.5 tqdm-4.67.1\n"
     ]
    }
   ],
   "source": [
    "# !pip install google-adk\n",
    "!pip install google-generativeai"
   ]
  },
  {
   "cell_type": "code",
   "execution_count": 3,
   "metadata": {},
   "outputs": [],
   "source": [
    "# Import agents from learning_agents.py\n",
    "from project_ideate.agents.learning_agents import anthropologist, cross_pollinator, experimenter\n",
    "\n",
    "# Import any other necessary libraries (e.g., for running agents, handling outputs)"
   ]
  },
  {
   "cell_type": "markdown",
   "metadata": {},
   "source": [
    "## Define a test function or class"
   ]
  },
  {
   "cell_type": "code",
   "execution_count": 4,
   "metadata": {},
   "outputs": [
    {
     "name": "stdout",
     "output_type": "stream",
     "text": [
      "\n",
      ">>> Asking the Anthropologist: 'Present yourself and your role based on your instructions.'\n",
      "<<< Anthropologist's Response: I am The Anthropologist. My role is to observe human behavior related to the design challenge. I deliver deep, unbiased insights, focusing on what people *do*, not just what they *say*. I use my search tool to find ethnographic studies, forum discussions, and user reviews.\n",
      "--------------------------------------------------\n",
      "\n",
      ">>> Asking the Experimenter: 'Present yourself and your role based on your instructions.'\n",
      "<<< Experimenter's Response: Hello! I am The Experimenter. My purpose is to help you prototype and test new ideas rapidly. I thrive on iteration and see every attempt, even unsuccessful ones, as a valuable learning opportunity on the path to success.\n",
      "--------------------------------------------------\n",
      "\n",
      ">>> Asking the Director: 'Present yourself and your role based on your instructions.'\n",
      "<<< Director's Response: Hello team! I'm The Director, and my role here is to empower and motivate all of you as we tackle this design challenge. I'm here to guide our innovation process, ensuring we stay aligned, inspired, and ultimately, successful. Let's bring our best ideas forward and create something amazing together!\n",
      "--------------------------------------------------\n",
      "\n",
      ">>> Asking the Collaborator: 'Present yourself and your role based on your instructions.'\n",
      "<<< Collaborator's Response: Hello everyone! I'm The Collaborator, and my role here is to foster teamwork and bring us all together to tackle this design challenge. I'm all about facilitating synergy and unlocking our collective intelligence. I'll be using my tools to find information on team dynamics, collaboration, and successful partnerships to help us work together as effectively as possible. Let's create something amazing!\n",
      "--------------------------------------------------\n",
      "\n",
      ">>> Asking the Hurdler: 'Present yourself and your role based on your instructions.'\n",
      "<<< Hurdler's Response: Hello! I'm The Hurdler. My purpose is to help you navigate and overcome any obstacles or constraints you encounter in your design challenge. I'll focus on finding creative solutions and turning limitations into opportunities by researching problem-solving strategies and case studies. Let's tackle those challenges together!\n",
      "--------------------------------------------------\n",
      "\n",
      ">>> Asking the Experience_Architect: 'Present yourself and your role based on your instructions.'\n",
      "<<< Experience_Architect's Response: Hello! I am The Experience Architect. My purpose is to design compelling and meaningful experiences for users and customers. I focus on both the emotional and functional aspects of interaction, ensuring that every touchpoint is engaging and effective. I can also leverage my tools to research user experience (UX) design, customer journey mapping, and service design to inform these experiences.\n",
      "--------------------------------------------------\n",
      "\n",
      ">>> Asking the Set_Designer: 'Present yourself and your role based on your instructions.'\n",
      "<<< Set_Designer's Response: Hello! I'm The Set Designer. My role is to create inspiring and supportive physical and cultural spaces that foster innovation. I focus on the environments where work happens, helping to set the stage for creative thinking and breakthrough ideas.\n",
      "--------------------------------------------------\n",
      "\n",
      ">>> Asking the Storyteller: 'Present yourself and your role based on your instructions.'\n",
      "<<< Storyteller's Response: Hello! I'm The Storyteller. My purpose is to craft compelling narratives around design challenges, new ideas, and innovative solutions. I aim to communicate vision and inspire action through engaging stories.\n",
      "--------------------------------------------------\n",
      "\n",
      ">>> Asking the Caregiver: 'Present yourself and your role based on your instructions.'\n",
      "<<< Caregiver's Response: Hello! I'm The Caregiver. My purpose is to anticipate and address your needs, ensuring your well-being and satisfaction. I'm here to build empathy and trust, offering the best support possible.\n",
      "--------------------------------------------------\n",
      "\n",
      ">>> Asking the Cross_Pollinator: 'Present yourself and your role based on your instructions.'\n",
      "<<< Cross_Pollinator's Response: Hello! I'm The Cross-Pollinator. My role is to find inspiration and potential solutions to your design challenge by exploring how similar problems are addressed in completely unrelated fields or industries. I delve into diverse areas to bring fresh perspectives and innovative ideas to the table!\n",
      "--------------------------------------------------\n"
     ]
    }
   ],
   "source": [
    "import asyncio\n",
    "from google.adk.runners import Runner\n",
    "from google.adk.sessions import InMemorySessionService\n",
    "from google.genai import types\n",
    "\n",
    "# Assuming these imports work and define your agents correctly\n",
    "from project_ideate.agents.learning_agents import *\n",
    "from project_ideate.agents.building_agents import *\n",
    "from project_ideate.agents.organizing_agents import *\n",
    "\n",
    "# If not already imported from your files, ensure these are defined for the example:\n",
    "# class MockSettings:\n",
    "#     DEFAULT_MODEL = \"gemini-1.5-flash-latest\" # Replace with your actual model name\n",
    "# settings = MockSettings()\n",
    "# from google.adk.agents import Agent\n",
    "# anthropologist = Agent(name=\"Anthropologist\", model=settings.DEFAULT_MODEL, instruction=\"...\", tools=[])\n",
    "# # ... define all other agents similarly for a self-contained snippet ...\n",
    "\n",
    "\n",
    "# --- Session Service (instantiate once outside the loop) ---\n",
    "APP_NAME = \"agent_testing_app\"\n",
    "USER_ID = \"agent_user\"\n",
    "session_service = InMemorySessionService() # Instantiate session service only once\n",
    "\n",
    "async def ask_agent_to_present_itself(agent):\n",
    "    \"\"\"Sends a prompt to the agent asking it to present itself using a unique session.\"\"\"\n",
    "    \n",
    "    # Generate a UNIQUE session ID for each agent based on its name\n",
    "    # This prevents cross-agent event warnings\n",
    "    current_session_id = f\"session_intro_{agent.name.lower().replace(' ', '_')}\"\n",
    "    \n",
    "    # 1. CREATE THE SESSION FOR THIS SPECIFIC AGENT'S INTERACTION - MUST BE AWAITED!\n",
    "    # This ensures a fresh, isolated session for each agent's turn.\n",
    "    await session_service.create_session( # <-- This is now correctly inside the async function and awaited\n",
    "        app_name=APP_NAME, user_id=USER_ID, session_id=current_session_id\n",
    "    )\n",
    "\n",
    "    # 2. Create the runner, linking it to the newly created unique session\n",
    "    agent_runner = Runner(\n",
    "        agent=agent,\n",
    "        app_name=APP_NAME,\n",
    "        session_service=session_service,\n",
    "    )\n",
    "    \n",
    "    query_text = \"Present yourself and your role based on your instructions.\"\n",
    "    print(f\"\\n>>> Asking the {agent.name}: '{query_text}'\")\n",
    "\n",
    "    user_content = types.Content(role='user', parts=[types.Part(text=query_text)])\n",
    "\n",
    "    final_response_content = \"No response received.\"\n",
    "    async for event in agent_runner.run_async(\n",
    "        user_id=USER_ID, session_id=current_session_id, new_message=user_content\n",
    "    ):\n",
    "        if event.is_final_response() and event.content and event.content.parts:\n",
    "            final_response_content = event.content.parts[0].text\n",
    "            break\n",
    "\n",
    "    print(f\"<<< {agent.name}'s Response: {final_response_content}\")\n",
    "    print(\"-\" * 50)\n",
    "\n",
    "# --- Execute the async function directly in Jupyter ---\n",
    "# Make sure all your persona agents (anthropologist, experimenter, etc.) are defined and available in this scope.\n",
    "for agent_obj in [anthropologist, experimenter, director, collaborator, hurdler, experience_architect, set_designer, storyteller, caregiver, cross_pollinator]:\n",
    "    await ask_agent_to_present_itself(agent_obj)"
   ]
  },
  {
   "cell_type": "code",
   "execution_count": null,
   "metadata": {},
   "outputs": [],
   "source": []
  }
 ],
 "metadata": {
  "kernelspec": {
   "display_name": "ideate-env",
   "language": "python",
   "name": "python3"
  },
  "language_info": {
   "codemirror_mode": {
    "name": "ipython",
    "version": 3
   },
   "file_extension": ".py",
   "mimetype": "text/x-python",
   "name": "python",
   "nbconvert_exporter": "python",
   "pygments_lexer": "ipython3",
   "version": "3.11.13"
  }
 },
 "nbformat": 4,
 "nbformat_minor": 2
}
